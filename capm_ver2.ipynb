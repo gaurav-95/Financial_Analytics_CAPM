{
  "nbformat": 4,
  "nbformat_minor": 0,
  "metadata": {
    "kernelspec": {
      "display_name": "Python 3",
      "language": "python",
      "name": "python3"
    },
    "language_info": {
      "codemirror_mode": {
        "name": "ipython",
        "version": 3
      },
      "file_extension": ".py",
      "mimetype": "text/x-python",
      "name": "python",
      "nbconvert_exporter": "python",
      "pygments_lexer": "ipython3",
      "version": "3.7.4"
    },
    "colab": {
      "name": "capm.ipynb",
      "provenance": [],
      "collapsed_sections": []
    }
  },
  "cells": [
    {
      "cell_type": "code",
      "metadata": {
        "scrolled": false,
        "id": "Imj0EeGnA7pE",
        "colab_type": "code",
        "colab": {
          "base_uri": "https://localhost:8080/",
          "height": 238
        },
        "outputId": "304bb3e4-5e6f-4a16-e7e3-34c74f0de260"
      },
      "source": [
        "pip install pandas-datareader"
      ],
      "execution_count": 1,
      "outputs": [
        {
          "output_type": "stream",
          "text": [
            "Requirement already satisfied: pandas-datareader in /usr/local/lib/python3.6/dist-packages (0.8.1)\n",
            "Requirement already satisfied: pandas>=0.21 in /usr/local/lib/python3.6/dist-packages (from pandas-datareader) (1.0.5)\n",
            "Requirement already satisfied: lxml in /usr/local/lib/python3.6/dist-packages (from pandas-datareader) (4.2.6)\n",
            "Requirement already satisfied: requests>=2.3.0 in /usr/local/lib/python3.6/dist-packages (from pandas-datareader) (2.23.0)\n",
            "Requirement already satisfied: pytz>=2017.2 in /usr/local/lib/python3.6/dist-packages (from pandas>=0.21->pandas-datareader) (2018.9)\n",
            "Requirement already satisfied: numpy>=1.13.3 in /usr/local/lib/python3.6/dist-packages (from pandas>=0.21->pandas-datareader) (1.18.5)\n",
            "Requirement already satisfied: python-dateutil>=2.6.1 in /usr/local/lib/python3.6/dist-packages (from pandas>=0.21->pandas-datareader) (2.8.1)\n",
            "Requirement already satisfied: urllib3!=1.25.0,!=1.25.1,<1.26,>=1.21.1 in /usr/local/lib/python3.6/dist-packages (from requests>=2.3.0->pandas-datareader) (1.24.3)\n",
            "Requirement already satisfied: certifi>=2017.4.17 in /usr/local/lib/python3.6/dist-packages (from requests>=2.3.0->pandas-datareader) (2020.6.20)\n",
            "Requirement already satisfied: idna<3,>=2.5 in /usr/local/lib/python3.6/dist-packages (from requests>=2.3.0->pandas-datareader) (2.10)\n",
            "Requirement already satisfied: chardet<4,>=3.0.2 in /usr/local/lib/python3.6/dist-packages (from requests>=2.3.0->pandas-datareader) (3.0.4)\n",
            "Requirement already satisfied: six>=1.5 in /usr/local/lib/python3.6/dist-packages (from python-dateutil>=2.6.1->pandas>=0.21->pandas-datareader) (1.15.0)\n"
          ],
          "name": "stdout"
        }
      ]
    },
    {
      "cell_type": "code",
      "metadata": {
        "scrolled": true,
        "id": "VVPfDcyNA7pJ",
        "colab_type": "code",
        "colab": {
          "base_uri": "https://localhost:8080/",
          "height": 218
        },
        "outputId": "93d1f8d1-9977-4088-9362-8a59f4844499"
      },
      "source": [
        "pip install yfinance"
      ],
      "execution_count": 2,
      "outputs": [
        {
          "output_type": "stream",
          "text": [
            "Requirement already satisfied: yfinance in /usr/local/lib/python3.6/dist-packages (0.1.54)\n",
            "Requirement already satisfied: numpy>=1.15 in /usr/local/lib/python3.6/dist-packages (from yfinance) (1.18.5)\n",
            "Requirement already satisfied: multitasking>=0.0.7 in /usr/local/lib/python3.6/dist-packages (from yfinance) (0.0.9)\n",
            "Requirement already satisfied: requests>=2.20 in /usr/local/lib/python3.6/dist-packages (from yfinance) (2.23.0)\n",
            "Requirement already satisfied: pandas>=0.24 in /usr/local/lib/python3.6/dist-packages (from yfinance) (1.0.5)\n",
            "Requirement already satisfied: urllib3!=1.25.0,!=1.25.1,<1.26,>=1.21.1 in /usr/local/lib/python3.6/dist-packages (from requests>=2.20->yfinance) (1.24.3)\n",
            "Requirement already satisfied: certifi>=2017.4.17 in /usr/local/lib/python3.6/dist-packages (from requests>=2.20->yfinance) (2020.6.20)\n",
            "Requirement already satisfied: chardet<4,>=3.0.2 in /usr/local/lib/python3.6/dist-packages (from requests>=2.20->yfinance) (3.0.4)\n",
            "Requirement already satisfied: idna<3,>=2.5 in /usr/local/lib/python3.6/dist-packages (from requests>=2.20->yfinance) (2.10)\n",
            "Requirement already satisfied: python-dateutil>=2.6.1 in /usr/local/lib/python3.6/dist-packages (from pandas>=0.24->yfinance) (2.8.1)\n",
            "Requirement already satisfied: pytz>=2017.2 in /usr/local/lib/python3.6/dist-packages (from pandas>=0.24->yfinance) (2018.9)\n",
            "Requirement already satisfied: six>=1.5 in /usr/local/lib/python3.6/dist-packages (from python-dateutil>=2.6.1->pandas>=0.24->yfinance) (1.15.0)\n"
          ],
          "name": "stdout"
        }
      ]
    },
    {
      "cell_type": "code",
      "metadata": {
        "id": "_2Yo9p9sA7pM",
        "colab_type": "code",
        "colab": {}
      },
      "source": [
        "import pandas as pd\n",
        "import numpy as np\n",
        "import yfinance as yf"
      ],
      "execution_count": 3,
      "outputs": []
    },
    {
      "cell_type": "code",
      "metadata": {
        "scrolled": true,
        "id": "upga6nIZA7pO",
        "colab_type": "code",
        "colab": {
          "base_uri": "https://localhost:8080/",
          "height": 84
        },
        "outputId": "7181029c-1b11-4459-f764-c61841f6cc47"
      },
      "source": [
        "data1 = pd.read_csv('MCAP_TOP100BSE.csv')\n",
        "data2 = pd.read_excel('MCAP_TOP100.xlsx')\n",
        "\n",
        "print(data1.columns.ravel())\n",
        "print(data2.columns.ravel())"
      ],
      "execution_count": 4,
      "outputs": [
        {
          "output_type": "stream",
          "text": [
            "['Security Code' 'Security Name' 'Security Group' 'Open' 'High' 'Low'\n",
            " 'LTP' 'No. of Shares Traded' 'Total Turnover (my image Lac)'\n",
            " 'No. of Trades']\n",
            "['Sr. No.' 'Symbol' 'Company Name' 'Market Capitalisation \\n(In lakhs)']\n"
          ],
          "name": "stdout"
        }
      ]
    },
    {
      "cell_type": "code",
      "metadata": {
        "id": "ACuzVS2kA7pS",
        "colab_type": "code",
        "colab": {
          "base_uri": "https://localhost:8080/",
          "height": 70
        },
        "outputId": "b530af73-6620-4eb3-d7c7-361eb7f05421"
      },
      "source": [
        "top100bse=data1['Security Name'].tolist()\n",
        "#print(top100bse)\n",
        "top100nse=data2['Symbol'].tolist()\n",
        "#print(top100nse)\n",
        "bselist=[s + \".BO\" for s in top100bse]\n",
        "print(bselist)\n",
        "nselist=[t + \".NS\" for t in top100nse]\n",
        "print(nselist)"
      ],
      "execution_count": 5,
      "outputs": [
        {
          "output_type": "stream",
          "text": [
            "['RELIANCE.BO', 'ICICIBANK.BO', 'SBIN.BO', 'HDFCBANK.BO', 'ZEEL.BO', 'KOTAKBANK.BO', 'NTPC.BO', 'BHARTIARTL.BO', 'BAJFINANCE.BO', 'ASIANPAINT.BO', 'DIVISLAB.BO', 'TECHM.BO', 'MARUTI.BO', 'AUROPHARMA.BO', 'TATAMOTORS.BO', 'PAGEIND.BO', 'TATASTEEL.BO', 'ITC.BO', 'TATAPOWER.BO', 'FEDERALBNK.BO', 'EICHERMOT.BO', 'INDUSINDBK.BO', 'COALINDIA.BO', 'SUNPHARMA.BO', 'HEROMOTOCO.BO', 'HINDUNILVR.BO', 'BPCL.BO', 'HAVELLS.BO', 'HCLTECH.BO', 'MARICO.BO', 'AXISBANK.BO', 'LT.BO', 'NESTLEIND.BO', 'PEL.BO', 'HDFC.BO', 'TITAN.BO', 'RBLBANK.BO', 'M&MFIN.BO', 'GRASIM.BO', 'TCS.BO', 'CIPLA.BO', 'EXIDEIND.BO', 'POWERGRID.BO', 'HINDALCO.BO', 'ASHOKLEY.BO', 'LUPIN.BO', 'DLF.BO', 'COLPAL.BO', 'BHARATFORG.BO', 'SRTRANSFIN.BO', 'HINDPETRO.BO', 'IBULHSGFIN.BO', 'WIPRO.BO', 'JSWSTEEL.BO', 'BAJAJFINSV.BO', 'APOLLOHOSP.BO', 'INFY.BO', 'PETRONET.BO', 'UPL.BO', 'BOSCHLTD.BO', 'INDIGO.BO', 'IGL.BO', 'BRITANNIA.BO', 'HDFCLIFE.BO', 'M&M.BO', 'TVSMOTOR.BO', 'TATAMTRDVR.BO', 'IOC.BO', 'VEDL.BO', 'ONGC.BO', 'MOTHERSUMI.BO', 'INFRATEL.BO', 'DRREDDY.BO', 'PFC.BO', 'SBILIFE.BO', 'BANKBARODA.BO', 'SIEMENS.BO', 'PIDILITIND.BO', 'DMART.BO', 'VOLTAS.BO', 'SHREECEM.BO', 'BAJAJ-AUTO.BO', 'TATACONSUM.BO', 'ULTRACEMCO.BO', 'DABUR.BO', 'ICICIPRULI.BO', 'RECLTD.BO', 'MRF.BO', 'GAIL.BO', 'LICHSGFIN.BO', 'BERGEPAINT.BO', 'NAUKRI.BO', 'BIOCON.BO', 'CONCOR.BO', 'GODREJCP.BO', 'NMDC.BO', 'ACC.BO', 'AMBUJACEM.BO', 'BAJAJHLDNG.BO', 'ADANIPORTS.BO', 'CROMPTON.BO']\n",
            "['RELIANCE.NS', 'TCS.NS', 'HINDUNILVR.NS', 'HDFCBANK.NS', 'HDFC.NS', 'INFY.NS', 'KOTAKBANK.NS', 'BHARTIARTL.NS', 'ITC.NS', 'ICICIBANK.NS', 'SBIN.NS', 'ASIANPAINT.NS', 'DMART.NS', 'BAJFINANCE.NS', 'MARUTI.NS', 'HCLTECH.NS', 'LT.NS', 'WIPRO.NS', 'AXISBANK.NS', 'ULTRACEMCO.NS', 'HDFCLIFE.NS', 'COALINDIA.NS', 'ONGC.NS', 'SUNPHARMA.NS', 'NTPC.NS', 'POWERGRID.NS', 'TITAN.NS', 'DABUR.NS', 'IOC.NS', 'BAJAJFINSV.NS', 'PIDILITIND.NS', 'BPCL.NS', 'HINDZINC.NS', 'BRITANNIA.NS', 'SBILIFE.NS', 'SHREECEM.NS', 'BAJAJ-AUTO.NS', 'SBICARD.NS', 'TECHM.NS', 'GODREJCP.NS', 'DIVISLAB.NS', 'DRREDDY.NS', 'ICICIPRULI.NS', 'ADANIPORTS.NS', 'ICICIGI.NS', 'BERGEPAINT.NS', 'HDFCAMC.NS', 'GSKCONS.NS', 'INDIGO.NS', 'SIEMENS.NS', 'EICHERMOT.NS', 'MARICO.NS', 'M&M.NS', 'JSWSTEEL.NS', 'MCDOWELL-N.NS', 'GAIL.NS', 'CIPLA.NS', 'COLPAL.NS', 'DLF.NS', 'TORNTPHARM.NS', 'PGHH.NS', 'BANDHANBNK.NS', 'BIOCON.NS', 'HEROMOTOCO.NS', 'GRASIM.NS', 'AMBUJACEM.NS', 'TATASTEEL.NS', 'HAVELLS.NS', 'PETRONET.NS', 'INFRATEL.NS', 'HINDPETRO.NS', 'YESBANK.NS', 'ALKEM.NS', 'BOSCHLTD.NS', 'CADILAHC.NS', 'IGL.NS', 'LUPIN.NS', 'UPL.NS', 'NAUKRI.NS', 'LTI.NS', 'BANKBARODA.NS', 'MRF.NS', 'MUTHOOTFIN.NS', 'NMDC.NS', 'INDUSINDBK.NS', 'UBL.NS', 'PFC.NS', 'AUROPHARMA.NS', 'VEDL.NS', 'ADANIGREEN.NS', 'WHIRLPOOL.NS', 'HONAUT.NS', 'TATAMOTORS.NS', 'PNB.NS', 'HINDALCO.NS', 'GLAXO.NS', '3MINDIA.NS', 'PEL.NS', 'KANSAINER.NS', 'ADANITRANS.NS']\n"
          ],
          "name": "stdout"
        }
      ]
    },
    {
      "cell_type": "code",
      "metadata": {
        "id": "IHPWc5snRosj",
        "colab_type": "code",
        "colab": {}
      },
      "source": [
        "def StockHist(stocklist, start, end):\n",
        "  stock_stat=pd.DataFrame()\n",
        "  names = pd.Series(stocklist)\n",
        "  for stock in stocklist:\n",
        "      df1 = yf.download(stock,start,end)\n",
        "      df1['Stock Name']= stock\n",
        "      stock_stat=stock_stat.append(df1)\n",
        "  stock_price=stock_stat.drop(['Open', 'High', 'Low', 'Close', 'Volume'], axis=1)\n",
        "  stock_price.reset_index(level=0, inplace=True)\n",
        "  return stock_price\n",
        "  #print(stock_price)\n",
        "  #stock_price.to_excel('stock_price.xlsx')"
      ],
      "execution_count": 6,
      "outputs": []
    },
    {
      "cell_type": "code",
      "metadata": {
        "id": "U9gc_f61Sxd-",
        "colab_type": "code",
        "colab": {
          "base_uri": "https://localhost:8080/",
          "height": 1000
        },
        "outputId": "09f4de4d-50b6-47df-e5e7-36c1531f8883"
      },
      "source": [
        "nse_price=StockHist(nselist,start='2010-08-01',end='2020-08-01')\n",
        "print(nse_price)"
      ],
      "execution_count": 7,
      "outputs": [
        {
          "output_type": "stream",
          "text": [
            "[*********************100%***********************]  1 of 1 completed\n",
            "[*********************100%***********************]  1 of 1 completed\n",
            "[*********************100%***********************]  1 of 1 completed\n",
            "[*********************100%***********************]  1 of 1 completed\n",
            "[*********************100%***********************]  1 of 1 completed\n",
            "[*********************100%***********************]  1 of 1 completed\n",
            "[*********************100%***********************]  1 of 1 completed\n",
            "[*********************100%***********************]  1 of 1 completed\n",
            "[*********************100%***********************]  1 of 1 completed\n",
            "[*********************100%***********************]  1 of 1 completed\n",
            "[*********************100%***********************]  1 of 1 completed\n",
            "[*********************100%***********************]  1 of 1 completed\n",
            "[*********************100%***********************]  1 of 1 completed\n",
            "[*********************100%***********************]  1 of 1 completed\n",
            "[*********************100%***********************]  1 of 1 completed\n",
            "[*********************100%***********************]  1 of 1 completed\n",
            "[*********************100%***********************]  1 of 1 completed\n",
            "[*********************100%***********************]  1 of 1 completed\n",
            "[*********************100%***********************]  1 of 1 completed\n",
            "[*********************100%***********************]  1 of 1 completed\n",
            "[*********************100%***********************]  1 of 1 completed\n",
            "[*********************100%***********************]  1 of 1 completed\n",
            "[*********************100%***********************]  1 of 1 completed\n",
            "[*********************100%***********************]  1 of 1 completed\n",
            "[*********************100%***********************]  1 of 1 completed\n",
            "[*********************100%***********************]  1 of 1 completed\n",
            "[*********************100%***********************]  1 of 1 completed\n",
            "[*********************100%***********************]  1 of 1 completed\n",
            "[*********************100%***********************]  1 of 1 completed\n",
            "[*********************100%***********************]  1 of 1 completed\n",
            "[*********************100%***********************]  1 of 1 completed\n",
            "[*********************100%***********************]  1 of 1 completed\n",
            "[*********************100%***********************]  1 of 1 completed\n",
            "[*********************100%***********************]  1 of 1 completed\n",
            "[*********************100%***********************]  1 of 1 completed\n",
            "[*********************100%***********************]  1 of 1 completed\n",
            "[*********************100%***********************]  1 of 1 completed\n",
            "[*********************100%***********************]  1 of 1 completed\n",
            "[*********************100%***********************]  1 of 1 completed\n",
            "[*********************100%***********************]  1 of 1 completed\n",
            "[*********************100%***********************]  1 of 1 completed\n",
            "[*********************100%***********************]  1 of 1 completed\n",
            "[*********************100%***********************]  1 of 1 completed\n",
            "[*********************100%***********************]  1 of 1 completed\n",
            "[*********************100%***********************]  1 of 1 completed\n",
            "[*********************100%***********************]  1 of 1 completed\n",
            "[*********************100%***********************]  1 of 1 completed\n",
            "[*********************100%***********************]  1 of 1 completed\n",
            "[*********************100%***********************]  1 of 1 completed\n",
            "[*********************100%***********************]  1 of 1 completed\n",
            "[*********************100%***********************]  1 of 1 completed\n",
            "[*********************100%***********************]  1 of 1 completed\n",
            "[*********************100%***********************]  1 of 1 completed\n",
            "[*********************100%***********************]  1 of 1 completed\n",
            "[*********************100%***********************]  1 of 1 completed\n",
            "[*********************100%***********************]  1 of 1 completed\n",
            "[*********************100%***********************]  1 of 1 completed\n",
            "[*********************100%***********************]  1 of 1 completed\n",
            "[*********************100%***********************]  1 of 1 completed\n",
            "[*********************100%***********************]  1 of 1 completed\n",
            "[*********************100%***********************]  1 of 1 completed\n",
            "[*********************100%***********************]  1 of 1 completed\n",
            "[*********************100%***********************]  1 of 1 completed\n",
            "[*********************100%***********************]  1 of 1 completed\n",
            "[*********************100%***********************]  1 of 1 completed\n",
            "[*********************100%***********************]  1 of 1 completed\n",
            "[*********************100%***********************]  1 of 1 completed\n",
            "[*********************100%***********************]  1 of 1 completed\n",
            "[*********************100%***********************]  1 of 1 completed\n",
            "[*********************100%***********************]  1 of 1 completed\n",
            "[*********************100%***********************]  1 of 1 completed\n",
            "[*********************100%***********************]  1 of 1 completed\n",
            "[*********************100%***********************]  1 of 1 completed\n",
            "[*********************100%***********************]  1 of 1 completed\n",
            "[*********************100%***********************]  1 of 1 completed\n",
            "[*********************100%***********************]  1 of 1 completed\n",
            "[*********************100%***********************]  1 of 1 completed\n",
            "[*********************100%***********************]  1 of 1 completed\n",
            "[*********************100%***********************]  1 of 1 completed\n",
            "[*********************100%***********************]  1 of 1 completed\n",
            "[*********************100%***********************]  1 of 1 completed\n",
            "[*********************100%***********************]  1 of 1 completed\n",
            "[*********************100%***********************]  1 of 1 completed\n",
            "[*********************100%***********************]  1 of 1 completed\n",
            "[*********************100%***********************]  1 of 1 completed\n",
            "[*********************100%***********************]  1 of 1 completed\n",
            "[*********************100%***********************]  1 of 1 completed\n",
            "[*********************100%***********************]  1 of 1 completed\n",
            "[*********************100%***********************]  1 of 1 completed\n",
            "[*********************100%***********************]  1 of 1 completed\n",
            "[*********************100%***********************]  1 of 1 completed\n",
            "[*********************100%***********************]  1 of 1 completed\n",
            "[*********************100%***********************]  1 of 1 completed\n",
            "[*********************100%***********************]  1 of 1 completed\n",
            "[*********************100%***********************]  1 of 1 completed\n",
            "[*********************100%***********************]  1 of 1 completed\n",
            "[*********************100%***********************]  1 of 1 completed\n",
            "[*********************100%***********************]  1 of 1 completed\n",
            "[*********************100%***********************]  1 of 1 completed\n",
            "[*********************100%***********************]  1 of 1 completed\n",
            "             Date   Adj Close     Stock Name\n",
            "0      2010-08-02  437.318298    RELIANCE.NS\n",
            "1      2010-08-03  443.008148    RELIANCE.NS\n",
            "2      2010-08-04  437.964935    RELIANCE.NS\n",
            "3      2010-08-05  434.085480    RELIANCE.NS\n",
            "4      2010-08-06  431.089722    RELIANCE.NS\n",
            "...           ...         ...            ...\n",
            "222423 2020-07-27  225.100006  ADANITRANS.NS\n",
            "222424 2020-07-28  235.899994  ADANITRANS.NS\n",
            "222425 2020-07-29  243.600006  ADANITRANS.NS\n",
            "222426 2020-07-30  244.399994  ADANITRANS.NS\n",
            "222427 2020-07-31  235.850006  ADANITRANS.NS\n",
            "\n",
            "[222428 rows x 3 columns]\n"
          ],
          "name": "stdout"
        }
      ]
    },
    {
      "cell_type": "code",
      "metadata": {
        "id": "qCLbIzchUI1E",
        "colab_type": "code",
        "colab": {
          "base_uri": "https://localhost:8080/",
          "height": 1000
        },
        "outputId": "c3eaaccf-3f99-43c7-95be-f790a7400fbd"
      },
      "source": [
        "bse_price=StockHist(bselist,start='2010-08-01',end='2020-08-01')\n",
        "print(bse_price)"
      ],
      "execution_count": 8,
      "outputs": [
        {
          "output_type": "stream",
          "text": [
            "[*********************100%***********************]  1 of 1 completed\n",
            "[*********************100%***********************]  1 of 1 completed\n",
            "[*********************100%***********************]  1 of 1 completed\n",
            "[*********************100%***********************]  1 of 1 completed\n",
            "[*********************100%***********************]  1 of 1 completed\n",
            "[*********************100%***********************]  1 of 1 completed\n",
            "[*********************100%***********************]  1 of 1 completed\n",
            "[*********************100%***********************]  1 of 1 completed\n",
            "[*********************100%***********************]  1 of 1 completed\n",
            "[*********************100%***********************]  1 of 1 completed\n",
            "[*********************100%***********************]  1 of 1 completed\n",
            "[*********************100%***********************]  1 of 1 completed\n",
            "[*********************100%***********************]  1 of 1 completed\n",
            "[*********************100%***********************]  1 of 1 completed\n",
            "[*********************100%***********************]  1 of 1 completed\n",
            "[*********************100%***********************]  1 of 1 completed\n",
            "[*********************100%***********************]  1 of 1 completed\n",
            "[*********************100%***********************]  1 of 1 completed\n",
            "[*********************100%***********************]  1 of 1 completed\n",
            "[*********************100%***********************]  1 of 1 completed\n",
            "[*********************100%***********************]  1 of 1 completed\n",
            "[*********************100%***********************]  1 of 1 completed\n",
            "[*********************100%***********************]  1 of 1 completed\n",
            "[*********************100%***********************]  1 of 1 completed\n",
            "[*********************100%***********************]  1 of 1 completed\n",
            "[*********************100%***********************]  1 of 1 completed\n",
            "[*********************100%***********************]  1 of 1 completed\n",
            "[*********************100%***********************]  1 of 1 completed\n",
            "[*********************100%***********************]  1 of 1 completed\n",
            "[*********************100%***********************]  1 of 1 completed\n",
            "[*********************100%***********************]  1 of 1 completed\n",
            "[*********************100%***********************]  1 of 1 completed\n",
            "[*********************100%***********************]  1 of 1 completed\n",
            "[*********************100%***********************]  1 of 1 completed\n",
            "[*********************100%***********************]  1 of 1 completed\n",
            "[*********************100%***********************]  1 of 1 completed\n",
            "[*********************100%***********************]  1 of 1 completed\n",
            "[*********************100%***********************]  1 of 1 completed\n",
            "[*********************100%***********************]  1 of 1 completed\n",
            "[*********************100%***********************]  1 of 1 completed\n",
            "[*********************100%***********************]  1 of 1 completed\n",
            "[*********************100%***********************]  1 of 1 completed\n",
            "[*********************100%***********************]  1 of 1 completed\n",
            "[*********************100%***********************]  1 of 1 completed\n",
            "[*********************100%***********************]  1 of 1 completed\n",
            "[*********************100%***********************]  1 of 1 completed\n",
            "[*********************100%***********************]  1 of 1 completed\n",
            "[*********************100%***********************]  1 of 1 completed\n",
            "[*********************100%***********************]  1 of 1 completed\n",
            "[*********************100%***********************]  1 of 1 completed\n",
            "[*********************100%***********************]  1 of 1 completed\n",
            "[*********************100%***********************]  1 of 1 completed\n",
            "[*********************100%***********************]  1 of 1 completed\n",
            "[*********************100%***********************]  1 of 1 completed\n",
            "[*********************100%***********************]  1 of 1 completed\n",
            "[*********************100%***********************]  1 of 1 completed\n",
            "[*********************100%***********************]  1 of 1 completed\n",
            "[*********************100%***********************]  1 of 1 completed\n",
            "[*********************100%***********************]  1 of 1 completed\n",
            "[*********************100%***********************]  1 of 1 completed\n",
            "[*********************100%***********************]  1 of 1 completed\n",
            "[*********************100%***********************]  1 of 1 completed\n",
            "[*********************100%***********************]  1 of 1 completed\n",
            "[*********************100%***********************]  1 of 1 completed\n",
            "[*********************100%***********************]  1 of 1 completed\n",
            "[*********************100%***********************]  1 of 1 completed\n",
            "[*********************100%***********************]  1 of 1 completed\n",
            "[*********************100%***********************]  1 of 1 completed\n",
            "[*********************100%***********************]  1 of 1 completed\n",
            "[*********************100%***********************]  1 of 1 completed\n",
            "[*********************100%***********************]  1 of 1 completed\n",
            "[*********************100%***********************]  1 of 1 completed\n",
            "[*********************100%***********************]  1 of 1 completed\n",
            "[*********************100%***********************]  1 of 1 completed\n",
            "[*********************100%***********************]  1 of 1 completed\n",
            "[*********************100%***********************]  1 of 1 completed\n",
            "[*********************100%***********************]  1 of 1 completed\n",
            "[*********************100%***********************]  1 of 1 completed\n",
            "[*********************100%***********************]  1 of 1 completed\n",
            "[*********************100%***********************]  1 of 1 completed\n",
            "[*********************100%***********************]  1 of 1 completed\n",
            "[*********************100%***********************]  1 of 1 completed\n",
            "[*********************100%***********************]  1 of 1 completed\n",
            "\n",
            "1 Failed download:\n",
            "- TATACONSUM.BO: No data found for this date range, symbol may be delisted\n",
            "[*********************100%***********************]  1 of 1 completed\n",
            "[*********************100%***********************]  1 of 1 completed\n",
            "[*********************100%***********************]  1 of 1 completed\n",
            "[*********************100%***********************]  1 of 1 completed\n",
            "[*********************100%***********************]  1 of 1 completed\n",
            "[*********************100%***********************]  1 of 1 completed\n",
            "[*********************100%***********************]  1 of 1 completed\n",
            "[*********************100%***********************]  1 of 1 completed\n",
            "[*********************100%***********************]  1 of 1 completed\n",
            "[*********************100%***********************]  1 of 1 completed\n",
            "[*********************100%***********************]  1 of 1 completed\n",
            "[*********************100%***********************]  1 of 1 completed\n",
            "[*********************100%***********************]  1 of 1 completed\n",
            "[*********************100%***********************]  1 of 1 completed\n",
            "[*********************100%***********************]  1 of 1 completed\n",
            "[*********************100%***********************]  1 of 1 completed\n",
            "[*********************100%***********************]  1 of 1 completed\n",
            "[*********************100%***********************]  1 of 1 completed\n",
            "             Date   Adj Close   Stock Name\n",
            "0      2010-08-02  437.294189  RELIANCE.BO\n",
            "1      2010-08-03  442.315521  RELIANCE.BO\n",
            "2      2010-08-04  437.876038  RELIANCE.BO\n",
            "3      2010-08-05  434.018372  RELIANCE.BO\n",
            "4      2010-08-06  431.152039  RELIANCE.BO\n",
            "...           ...         ...          ...\n",
            "233403 2020-07-27  246.399994  CROMPTON.BO\n",
            "233404 2020-07-28  251.899994  CROMPTON.BO\n",
            "233405 2020-07-29  249.100006  CROMPTON.BO\n",
            "233406 2020-07-30  244.800003  CROMPTON.BO\n",
            "233407 2020-07-31  244.000000  CROMPTON.BO\n",
            "\n",
            "[233408 rows x 3 columns]\n"
          ],
          "name": "stdout"
        }
      ]
    },
    {
      "cell_type": "code",
      "metadata": {
        "id": "pDQ81BiM3pDH",
        "colab_type": "code",
        "colab": {}
      },
      "source": [
        "c=['BSE-100.BO']\n",
        "d=['^NSEI']"
      ],
      "execution_count": 9,
      "outputs": []
    },
    {
      "cell_type": "code",
      "metadata": {
        "id": "Mee35asd7T-P",
        "colab_type": "code",
        "colab": {
          "base_uri": "https://localhost:8080/",
          "height": 521
        },
        "outputId": "c4a759cd-240c-4fca-d667-c397ee4b6992"
      },
      "source": [
        "bse_market=StockHist(c, start='2010-08-01',end='2020-08-01')\n",
        "print(bse_market)\n",
        "nse_market=StockHist(d, start='2010-08-01',end='2020-08-01')\n",
        "print(nse_market)"
      ],
      "execution_count": 10,
      "outputs": [
        {
          "output_type": "stream",
          "text": [
            "\r[*********************100%***********************]  1 of 1 completed\n",
            "           Date     Adj Close  Stock Name\n",
            "0    2010-08-02   9666.299805  BSE-100.BO\n",
            "1    2010-08-03   9684.780273  BSE-100.BO\n",
            "2    2010-08-04   9719.080078  BSE-100.BO\n",
            "3    2010-08-05   9688.679688  BSE-100.BO\n",
            "4    2010-08-06   9674.089844  BSE-100.BO\n",
            "...         ...           ...         ...\n",
            "2431 2020-07-27  11163.280273  BSE-100.BO\n",
            "2432 2020-07-28  11323.780273  BSE-100.BO\n",
            "2433 2020-07-29  11249.500000  BSE-100.BO\n",
            "2434 2020-07-30  11168.320312  BSE-100.BO\n",
            "2435 2020-07-31  11158.959961  BSE-100.BO\n",
            "\n",
            "[2436 rows x 3 columns]\n",
            "[*********************100%***********************]  1 of 1 completed\n",
            "           Date     Adj Close Stock Name\n",
            "0    2010-08-02   5431.649902      ^NSEI\n",
            "1    2010-08-03   5439.549805      ^NSEI\n",
            "2    2010-08-04   5467.850098      ^NSEI\n",
            "3    2010-08-05   5447.100098      ^NSEI\n",
            "4    2010-08-06   5439.250000      ^NSEI\n",
            "...         ...           ...        ...\n",
            "2441 2020-07-27  11131.799805      ^NSEI\n",
            "2442 2020-07-28  11300.549805      ^NSEI\n",
            "2443 2020-07-29  11202.849609      ^NSEI\n",
            "2444 2020-07-30  11102.150391      ^NSEI\n",
            "2445 2020-07-31  11073.450195      ^NSEI\n",
            "\n",
            "[2446 rows x 3 columns]\n"
          ],
          "name": "stdout"
        }
      ]
    },
    {
      "cell_type": "code",
      "metadata": {
        "id": "A-SMe4q57HUr",
        "colab_type": "code",
        "colab": {}
      },
      "source": [
        "def Merge(market_price, stock_price):\n",
        "  common = market_price.merge(stock_price,on=['Date'])\n",
        "  common = common.sort_values(by=['Stock Name_y', 'Date'])\n",
        "  return common\n",
        "  #common.to_excel('common.xlsx')"
      ],
      "execution_count": 11,
      "outputs": []
    },
    {
      "cell_type": "code",
      "metadata": {
        "id": "KW3NdyXJYfe4",
        "colab_type": "code",
        "colab": {
          "base_uri": "https://localhost:8080/",
          "height": 252
        },
        "outputId": "5845bfe1-0a43-4d51-e022-06c68d7fc4dd"
      },
      "source": [
        "commonbse=Merge(bse_market, bse_price)\n",
        "print(commonbse)"
      ],
      "execution_count": 12,
      "outputs": [
        {
          "output_type": "stream",
          "text": [
            "             Date   Adj Close_x Stock Name_x  Adj Close_y Stock Name_y\n",
            "85     2010-08-02   9666.299805   BSE-100.BO   687.475525       ACC.BO\n",
            "174    2010-08-03   9684.780273   BSE-100.BO   683.645142       ACC.BO\n",
            "263    2010-08-04   9719.080078   BSE-100.BO   675.489746       ACC.BO\n",
            "352    2010-08-05   9688.679688   BSE-100.BO   672.894775       ACC.BO\n",
            "441    2010-08-06   9674.089844   BSE-100.BO   679.443726       ACC.BO\n",
            "...           ...           ...          ...          ...          ...\n",
            "230477 2020-07-27  11163.280273   BSE-100.BO   145.399994      ZEEL.BO\n",
            "230577 2020-07-28  11323.780273   BSE-100.BO   144.399994      ZEEL.BO\n",
            "230677 2020-07-29  11249.500000   BSE-100.BO   142.350006      ZEEL.BO\n",
            "230777 2020-07-30  11168.320312   BSE-100.BO   140.250000      ZEEL.BO\n",
            "230877 2020-07-31  11158.959961   BSE-100.BO   138.800003      ZEEL.BO\n",
            "\n",
            "[230973 rows x 5 columns]\n"
          ],
          "name": "stdout"
        }
      ]
    },
    {
      "cell_type": "code",
      "metadata": {
        "id": "YxngXrueuiv5",
        "colab_type": "code",
        "colab": {}
      },
      "source": [
        "def PCT(common):\n",
        "  common['pct_change_stock'] = common.groupby(['Stock Name_y'])['Adj Close_y'].pct_change()\n",
        "  common['pct_change_market']= common.groupby(['Stock Name_y'])['Adj Close_x'].pct_change()\n",
        "  return common\n",
        "  #common.to_excel('pct.xlsx')"
      ],
      "execution_count": 13,
      "outputs": []
    },
    {
      "cell_type": "code",
      "metadata": {
        "id": "M7-SgFbGZQzH",
        "colab_type": "code",
        "colab": {
          "base_uri": "https://localhost:8080/",
          "height": 252
        },
        "outputId": "9455f3c9-564b-4fb4-aec3-1a12bc3a6469"
      },
      "source": [
        "pctbse=PCT(commonbse)\n",
        "#pctbse.to_excel('pct.xlsx')\n",
        "print(pctbse)"
      ],
      "execution_count": 14,
      "outputs": [
        {
          "output_type": "stream",
          "text": [
            "             Date   Adj Close_x  ... pct_change_stock  pct_change_market\n",
            "85     2010-08-02   9666.299805  ...              NaN                NaN\n",
            "174    2010-08-03   9684.780273  ...        -0.005572           0.001912\n",
            "263    2010-08-04   9719.080078  ...        -0.011929           0.003542\n",
            "352    2010-08-05   9688.679688  ...        -0.003842          -0.003128\n",
            "441    2010-08-06   9674.089844  ...         0.009733          -0.001506\n",
            "...           ...           ...  ...              ...                ...\n",
            "230477 2020-07-27  11163.280273  ...        -0.041213          -0.006163\n",
            "230577 2020-07-28  11323.780273  ...        -0.006878           0.014377\n",
            "230677 2020-07-29  11249.500000  ...        -0.014197          -0.006560\n",
            "230777 2020-07-30  11168.320312  ...        -0.014752          -0.007216\n",
            "230877 2020-07-31  11158.959961  ...        -0.010339          -0.000838\n",
            "\n",
            "[230973 rows x 7 columns]\n"
          ],
          "name": "stdout"
        }
      ]
    },
    {
      "cell_type": "code",
      "metadata": {
        "id": "6PcyxTDQCLi1",
        "colab_type": "code",
        "colab": {}
      },
      "source": [
        "def Beta(common):\n",
        "  num = common.groupby(['Stock Name_y'])['pct_change_market'].cov(common['pct_change_stock'])\n",
        "  den = common.groupby(['Stock Name_y'])['pct_change_market'].var()\n",
        "  beta = num/den\n",
        "  return beta\n",
        "  #beta.to_excel('beta.xlsx')"
      ],
      "execution_count": 15,
      "outputs": []
    },
    {
      "cell_type": "code",
      "metadata": {
        "id": "VoxYXAsbZng4",
        "colab_type": "code",
        "colab": {
          "base_uri": "https://localhost:8080/",
          "height": 235
        },
        "outputId": "942811e7-a3e7-4f9c-88b7-5919a64e9093"
      },
      "source": [
        "bsebeta=Beta(pctbse)\n",
        "print(bsebeta)"
      ],
      "execution_count": 16,
      "outputs": [
        {
          "output_type": "stream",
          "text": [
            "Stock Name_y\n",
            "ACC.BO           0.553938\n",
            "ADANIPORTS.BO    0.698190\n",
            "AMBUJACEM.BO     0.600088\n",
            "APOLLOHOSP.BO    0.362376\n",
            "ASHOKLEY.BO      0.757561\n",
            "                   ...   \n",
            "UPL.BO           0.632533\n",
            "VEDL.BO          0.923930\n",
            "VOLTAS.BO        0.761397\n",
            "WIPRO.BO         0.365385\n",
            "ZEEL.BO          0.527834\n",
            "Name: pct_change_market, Length: 100, dtype: float64\n"
          ],
          "name": "stdout"
        }
      ]
    },
    {
      "cell_type": "code",
      "metadata": {
        "id": "0or5sSuiUM0-",
        "colab_type": "code",
        "colab": {}
      },
      "source": [
        "def BetaSorted(beta):\n",
        "  beta_frame=beta.to_frame()\n",
        "  beta_frame.reset_index(level=0, inplace=True)\n",
        "  beta_sorted=beta_frame.sort_values(by=['pct_change_market'])\n",
        "  beta_sorted.rename(columns = {'pct_change_market':'Beta'}, inplace = True) \n",
        "  return beta_sorted\n",
        "  #beta_sorted.to_excel('beta.xlsx')"
      ],
      "execution_count": 17,
      "outputs": []
    },
    {
      "cell_type": "code",
      "metadata": {
        "id": "wUvE2qX-aMQF",
        "colab_type": "code",
        "colab": {
          "base_uri": "https://localhost:8080/",
          "height": 252
        },
        "outputId": "32536b1c-4c9b-4cf6-8fac-d1b973849580"
      },
      "source": [
        "bsebetasort=BetaSorted(bsebeta)\n",
        "print(bsebetasort)"
      ],
      "execution_count": 18,
      "outputs": [
        {
          "output_type": "stream",
          "text": [
            "     Stock Name_y      Beta\n",
            "67   NESTLEIND.BO  0.292113\n",
            "62      MARICO.BO  0.293592\n",
            "22      COLPAL.BO  0.309146\n",
            "59       LUPIN.BO  0.316271\n",
            "29     DRREDDY.BO  0.321664\n",
            "..            ...       ...\n",
            "27         DLF.BO  1.022827\n",
            "40    HDFCLIFE.BO  1.032020\n",
            "47  ICICIPRULI.BO  1.123558\n",
            "77     RBLBANK.BO  1.349390\n",
            "45  IBULHSGFIN.BO  1.437835\n",
            "\n",
            "[100 rows x 2 columns]\n"
          ],
          "name": "stdout"
        }
      ]
    },
    {
      "cell_type": "code",
      "metadata": {
        "id": "nEjbIcRGVTdh",
        "colab_type": "code",
        "colab": {}
      },
      "source": [
        "import matplotlib.pyplot as plt\n",
        "from pylab import rcParams\n",
        "def Plotbeta(beta_sorted):\n",
        "  rcParams['figure.figsize'] = 20, 7\n",
        "  beta_sorted.plot(x='Stock Name_y',y='Beta',color='red', mfc='black',marker='x', kind='line', fontsize=12)\n",
        "  plt.figure(figsize=(20,10))\n",
        "  plt.show()"
      ],
      "execution_count": 19,
      "outputs": []
    },
    {
      "cell_type": "code",
      "metadata": {
        "id": "SrgxKmMlal4b",
        "colab_type": "code",
        "colab": {
          "base_uri": "https://localhost:8080/",
          "height": 463
        },
        "outputId": "6650f7cd-e30d-473a-82b3-36f6ef8e69ee"
      },
      "source": [
        "Plotbeta(bsebetasort)"
      ],
      "execution_count": 20,
      "outputs": [
        {
          "output_type": "display_data",
          "data": {
            "image/png": "[encoded data removed]",
            "text/plain": [
              "<Figure size 1440x504 with 1 Axes>"
            ]
          },
          "metadata": {
            "tags": [],
            "needs_background": "light"
          }
        },
        {
          "output_type": "display_data",
          "data": {
            "text/plain": [
              "<Figure size 1440x720 with 0 Axes>"
            ]
          },
          "metadata": {
            "tags": []
          }
        }
      ]
    },
    {
      "cell_type": "code",
      "metadata": {
        "id": "BeSJfVKIddWE",
        "colab_type": "code",
        "colab": {}
      },
      "source": [
        "def PlotHL(df):\n",
        "  df.plot(kind='bar',x='Stock Name_y',y='Beta')\n",
        "  barlist=plt.bar(df['Stock Name_y'],df['Beta'], width = 0.7, color='y')\n",
        "  for i in range(0,10):\n",
        "    barlist[i].set_color('g')\n",
        "  for i in range(len(df)-10,len(df)):\n",
        "    barlist[i].set_color('r')"
      ],
      "execution_count": 21,
      "outputs": []
    },
    {
      "cell_type": "code",
      "metadata": {
        "id": "D7Tgu7jOa7AU",
        "colab_type": "code",
        "colab": {
          "base_uri": "https://localhost:8080/",
          "height": 524
        },
        "outputId": "c47eb03c-b63e-44bc-c0a5-0e551dbb18d6"
      },
      "source": [
        "PlotHL(bsebetasort)"
      ],
      "execution_count": 22,
      "outputs": [
        {
          "output_type": "display_data",
          "data": {
            "image/png": "[encoded data removed]",
            "text/plain": [
              "<Figure size 1440x504 with 1 Axes>"
            ]
          },
          "metadata": {
            "tags": [],
            "needs_background": "light"
          }
        }
      ]
    },
    {
      "cell_type": "code",
      "metadata": {
        "id": "m_3QJ-iLvWSl",
        "colab_type": "code",
        "colab": {
          "base_uri": "https://localhost:8080/",
          "height": 1000
        },
        "outputId": "775180db-343a-4662-a530-246601f59947"
      },
      "source": [
        "bse_2015=StockHist(bselist,start='2010-08-01',end='2015-08-01')\n",
        "bse_market2015=StockHist(c, start='2010-08-01',end='2015-08-01')\n",
        "commonbse2015=Merge(bse_market2015, bse_2015)\n",
        "pctbse2015=PCT(commonbse2015)\n",
        "bsebeta2015=Beta(pctbse2015)\n",
        "bsebetasort2015=BetaSorted(bsebeta2015)"
      ],
      "execution_count": 23,
      "outputs": [
        {
          "output_type": "stream",
          "text": [
            "[*********************100%***********************]  1 of 1 completed\n",
            "[*********************100%***********************]  1 of 1 completed\n",
            "[*********************100%***********************]  1 of 1 completed\n",
            "[*********************100%***********************]  1 of 1 completed\n",
            "[*********************100%***********************]  1 of 1 completed\n",
            "[*********************100%***********************]  1 of 1 completed\n",
            "[*********************100%***********************]  1 of 1 completed\n",
            "[*********************100%***********************]  1 of 1 completed\n",
            "[*********************100%***********************]  1 of 1 completed\n",
            "[*********************100%***********************]  1 of 1 completed\n",
            "[*********************100%***********************]  1 of 1 completed\n",
            "[*********************100%***********************]  1 of 1 completed\n",
            "[*********************100%***********************]  1 of 1 completed\n",
            "[*********************100%***********************]  1 of 1 completed\n",
            "[*********************100%***********************]  1 of 1 completed\n",
            "[*********************100%***********************]  1 of 1 completed\n",
            "[*********************100%***********************]  1 of 1 completed\n",
            "[*********************100%***********************]  1 of 1 completed\n",
            "[*********************100%***********************]  1 of 1 completed\n",
            "[*********************100%***********************]  1 of 1 completed\n",
            "[*********************100%***********************]  1 of 1 completed\n",
            "[*********************100%***********************]  1 of 1 completed\n",
            "[*********************100%***********************]  1 of 1 completed\n",
            "[*********************100%***********************]  1 of 1 completed\n",
            "[*********************100%***********************]  1 of 1 completed\n",
            "[*********************100%***********************]  1 of 1 completed\n",
            "[*********************100%***********************]  1 of 1 completed\n",
            "[*********************100%***********************]  1 of 1 completed\n",
            "[*********************100%***********************]  1 of 1 completed\n",
            "[*********************100%***********************]  1 of 1 completed\n",
            "[*********************100%***********************]  1 of 1 completed\n",
            "[*********************100%***********************]  1 of 1 completed\n",
            "[*********************100%***********************]  1 of 1 completed\n",
            "[*********************100%***********************]  1 of 1 completed\n",
            "[*********************100%***********************]  1 of 1 completed\n",
            "[*********************100%***********************]  1 of 1 completed\n",
            "[*********************100%***********************]  1 of 1 completed\n",
            "\n",
            "1 Failed download:\n",
            "- RBLBANK.BO: Data doesn't exist for startDate = 1280620800, endDate = 1438387200\n",
            "[*********************100%***********************]  1 of 1 completed\n",
            "[*********************100%***********************]  1 of 1 completed\n",
            "[*********************100%***********************]  1 of 1 completed\n",
            "[*********************100%***********************]  1 of 1 completed\n",
            "[*********************100%***********************]  1 of 1 completed\n",
            "[*********************100%***********************]  1 of 1 completed\n",
            "[*********************100%***********************]  1 of 1 completed\n",
            "[*********************100%***********************]  1 of 1 completed\n",
            "[*********************100%***********************]  1 of 1 completed\n",
            "[*********************100%***********************]  1 of 1 completed\n",
            "[*********************100%***********************]  1 of 1 completed\n",
            "[*********************100%***********************]  1 of 1 completed\n",
            "[*********************100%***********************]  1 of 1 completed\n",
            "[*********************100%***********************]  1 of 1 completed\n",
            "[*********************100%***********************]  1 of 1 completed\n",
            "[*********************100%***********************]  1 of 1 completed\n",
            "[*********************100%***********************]  1 of 1 completed\n",
            "[*********************100%***********************]  1 of 1 completed\n",
            "[*********************100%***********************]  1 of 1 completed\n",
            "[*********************100%***********************]  1 of 1 completed\n",
            "[*********************100%***********************]  1 of 1 completed\n",
            "[*********************100%***********************]  1 of 1 completed\n",
            "[*********************100%***********************]  1 of 1 completed\n",
            "[*********************100%***********************]  1 of 1 completed\n",
            "\n",
            "1 Failed download:\n",
            "- INDIGO.BO: Data doesn't exist for startDate = 1280620800, endDate = 1438387200\n",
            "[*********************100%***********************]  1 of 1 completed\n",
            "[*********************100%***********************]  1 of 1 completed\n",
            "[*********************100%***********************]  1 of 1 completed\n",
            "\n",
            "1 Failed download:\n",
            "- HDFCLIFE.BO: Data doesn't exist for startDate = 1280620800, endDate = 1438387200\n",
            "[*********************100%***********************]  1 of 1 completed\n",
            "[*********************100%***********************]  1 of 1 completed\n",
            "[*********************100%***********************]  1 of 1 completed\n",
            "[*********************100%***********************]  1 of 1 completed\n",
            "[*********************100%***********************]  1 of 1 completed\n",
            "[*********************100%***********************]  1 of 1 completed\n",
            "[*********************100%***********************]  1 of 1 completed\n",
            "[*********************100%***********************]  1 of 1 completed\n",
            "[*********************100%***********************]  1 of 1 completed\n",
            "[*********************100%***********************]  1 of 1 completed\n",
            "[*********************100%***********************]  1 of 1 completed\n",
            "\n",
            "1 Failed download:\n",
            "- SBILIFE.BO: Data doesn't exist for startDate = 1280620800, endDate = 1438387200\n",
            "[*********************100%***********************]  1 of 1 completed\n",
            "[*********************100%***********************]  1 of 1 completed\n",
            "[*********************100%***********************]  1 of 1 completed\n",
            "[*********************100%***********************]  1 of 1 completed\n",
            "\n",
            "1 Failed download:\n",
            "- DMART.BO: Data doesn't exist for startDate = 1280620800, endDate = 1438387200\n",
            "[*********************100%***********************]  1 of 1 completed\n",
            "[*********************100%***********************]  1 of 1 completed\n",
            "[*********************100%***********************]  1 of 1 completed\n",
            "[*********************100%***********************]  1 of 1 completed\n",
            "\n",
            "1 Failed download:\n",
            "- TATACONSUM.BO: No data found for this date range, symbol may be delisted\n",
            "[*********************100%***********************]  1 of 1 completed\n",
            "[*********************100%***********************]  1 of 1 completed\n",
            "[*********************100%***********************]  1 of 1 completed\n",
            "\n",
            "1 Failed download:\n",
            "- ICICIPRULI.BO: Data doesn't exist for startDate = 1280620800, endDate = 1438387200\n",
            "[*********************100%***********************]  1 of 1 completed\n",
            "[*********************100%***********************]  1 of 1 completed\n",
            "[*********************100%***********************]  1 of 1 completed\n",
            "[*********************100%***********************]  1 of 1 completed\n",
            "[*********************100%***********************]  1 of 1 completed\n",
            "[*********************100%***********************]  1 of 1 completed\n",
            "[*********************100%***********************]  1 of 1 completed\n",
            "[*********************100%***********************]  1 of 1 completed\n",
            "[*********************100%***********************]  1 of 1 completed\n",
            "[*********************100%***********************]  1 of 1 completed\n",
            "[*********************100%***********************]  1 of 1 completed\n",
            "[*********************100%***********************]  1 of 1 completed\n",
            "[*********************100%***********************]  1 of 1 completed\n",
            "[*********************100%***********************]  1 of 1 completed\n",
            "[*********************100%***********************]  1 of 1 completed\n",
            "\n",
            "1 Failed download:\n",
            "- CROMPTON.BO: Data doesn't exist for startDate = 1280620800, endDate = 1438387200\n",
            "[*********************100%***********************]  1 of 1 completed\n"
          ],
          "name": "stdout"
        }
      ]
    },
    {
      "cell_type": "code",
      "metadata": {
        "id": "K7q-2Uw7v9N5",
        "colab_type": "code",
        "colab": {
          "base_uri": "https://localhost:8080/",
          "height": 1000
        },
        "outputId": "6a2d9f52-6a36-43b7-feff-c11310af01d4"
      },
      "source": [
        "bse_2020=StockHist(bselist,start='2015-08-01',end='2020-08-01')\n",
        "bse_market2020=StockHist(c, start='2015-08-01',end='2020-08-01')\n",
        "commonbse2020=Merge(bse_market2020, bse_2020)\n",
        "pctbse2020=PCT(commonbse2020)\n",
        "bsebeta2020=Beta(pctbse2020)\n",
        "bsebetasort2020=BetaSorted(bsebeta2020)"
      ],
      "execution_count": 24,
      "outputs": [
        {
          "output_type": "stream",
          "text": [
            "[*********************100%***********************]  1 of 1 completed\n",
            "[*********************100%***********************]  1 of 1 completed\n",
            "[*********************100%***********************]  1 of 1 completed\n",
            "[*********************100%***********************]  1 of 1 completed\n",
            "[*********************100%***********************]  1 of 1 completed\n",
            "[*********************100%***********************]  1 of 1 completed\n",
            "[*********************100%***********************]  1 of 1 completed\n",
            "[*********************100%***********************]  1 of 1 completed\n",
            "[*********************100%***********************]  1 of 1 completed\n",
            "[*********************100%***********************]  1 of 1 completed\n",
            "[*********************100%***********************]  1 of 1 completed\n",
            "[*********************100%***********************]  1 of 1 completed\n",
            "[*********************100%***********************]  1 of 1 completed\n",
            "[*********************100%***********************]  1 of 1 completed\n",
            "[*********************100%***********************]  1 of 1 completed\n",
            "[*********************100%***********************]  1 of 1 completed\n",
            "[*********************100%***********************]  1 of 1 completed\n",
            "[*********************100%***********************]  1 of 1 completed\n",
            "[*********************100%***********************]  1 of 1 completed\n",
            "[*********************100%***********************]  1 of 1 completed\n",
            "[*********************100%***********************]  1 of 1 completed\n",
            "[*********************100%***********************]  1 of 1 completed\n",
            "[*********************100%***********************]  1 of 1 completed\n",
            "[*********************100%***********************]  1 of 1 completed\n",
            "[*********************100%***********************]  1 of 1 completed\n",
            "[*********************100%***********************]  1 of 1 completed\n",
            "[*********************100%***********************]  1 of 1 completed\n",
            "[*********************100%***********************]  1 of 1 completed\n",
            "[*********************100%***********************]  1 of 1 completed\n",
            "[*********************100%***********************]  1 of 1 completed\n",
            "[*********************100%***********************]  1 of 1 completed\n",
            "[*********************100%***********************]  1 of 1 completed\n",
            "[*********************100%***********************]  1 of 1 completed\n",
            "[*********************100%***********************]  1 of 1 completed\n",
            "[*********************100%***********************]  1 of 1 completed\n",
            "[*********************100%***********************]  1 of 1 completed\n",
            "[*********************100%***********************]  1 of 1 completed\n",
            "[*********************100%***********************]  1 of 1 completed\n",
            "[*********************100%***********************]  1 of 1 completed\n",
            "[*********************100%***********************]  1 of 1 completed\n",
            "[*********************100%***********************]  1 of 1 completed\n",
            "[*********************100%***********************]  1 of 1 completed\n",
            "[*********************100%***********************]  1 of 1 completed\n",
            "[*********************100%***********************]  1 of 1 completed\n",
            "[*********************100%***********************]  1 of 1 completed\n",
            "[*********************100%***********************]  1 of 1 completed\n",
            "[*********************100%***********************]  1 of 1 completed\n",
            "[*********************100%***********************]  1 of 1 completed\n",
            "[*********************100%***********************]  1 of 1 completed\n",
            "[*********************100%***********************]  1 of 1 completed\n",
            "[*********************100%***********************]  1 of 1 completed\n",
            "[*********************100%***********************]  1 of 1 completed\n",
            "[*********************100%***********************]  1 of 1 completed\n",
            "[*********************100%***********************]  1 of 1 completed\n",
            "[*********************100%***********************]  1 of 1 completed\n",
            "[*********************100%***********************]  1 of 1 completed\n",
            "[*********************100%***********************]  1 of 1 completed\n",
            "[*********************100%***********************]  1 of 1 completed\n",
            "[*********************100%***********************]  1 of 1 completed\n",
            "[*********************100%***********************]  1 of 1 completed\n",
            "[*********************100%***********************]  1 of 1 completed\n",
            "[*********************100%***********************]  1 of 1 completed\n",
            "[*********************100%***********************]  1 of 1 completed\n",
            "[*********************100%***********************]  1 of 1 completed\n",
            "[*********************100%***********************]  1 of 1 completed\n",
            "[*********************100%***********************]  1 of 1 completed\n",
            "[*********************100%***********************]  1 of 1 completed\n",
            "[*********************100%***********************]  1 of 1 completed\n",
            "[*********************100%***********************]  1 of 1 completed\n",
            "[*********************100%***********************]  1 of 1 completed\n",
            "[*********************100%***********************]  1 of 1 completed\n",
            "[*********************100%***********************]  1 of 1 completed\n",
            "[*********************100%***********************]  1 of 1 completed\n",
            "[*********************100%***********************]  1 of 1 completed\n",
            "[*********************100%***********************]  1 of 1 completed\n",
            "[*********************100%***********************]  1 of 1 completed\n",
            "[*********************100%***********************]  1 of 1 completed\n",
            "[*********************100%***********************]  1 of 1 completed\n",
            "[*********************100%***********************]  1 of 1 completed\n",
            "[*********************100%***********************]  1 of 1 completed\n",
            "[*********************100%***********************]  1 of 1 completed\n",
            "[*********************100%***********************]  1 of 1 completed\n",
            "[*********************100%***********************]  1 of 1 completed\n",
            "\n",
            "1 Failed download:\n",
            "- TATACONSUM.BO: No data found for this date range, symbol may be delisted\n",
            "[*********************100%***********************]  1 of 1 completed\n",
            "[*********************100%***********************]  1 of 1 completed\n",
            "[*********************100%***********************]  1 of 1 completed\n",
            "[*********************100%***********************]  1 of 1 completed\n",
            "[*********************100%***********************]  1 of 1 completed\n",
            "[*********************100%***********************]  1 of 1 completed\n",
            "[*********************100%***********************]  1 of 1 completed\n",
            "[*********************100%***********************]  1 of 1 completed\n",
            "[*********************100%***********************]  1 of 1 completed\n",
            "[*********************100%***********************]  1 of 1 completed\n",
            "[*********************100%***********************]  1 of 1 completed\n",
            "[*********************100%***********************]  1 of 1 completed\n",
            "[*********************100%***********************]  1 of 1 completed\n",
            "[*********************100%***********************]  1 of 1 completed\n",
            "[*********************100%***********************]  1 of 1 completed\n",
            "[*********************100%***********************]  1 of 1 completed\n",
            "[*********************100%***********************]  1 of 1 completed\n",
            "[*********************100%***********************]  1 of 1 completed\n",
            "[*********************100%***********************]  1 of 1 completed\n"
          ],
          "name": "stdout"
        }
      ]
    },
    {
      "cell_type": "code",
      "metadata": {
        "id": "NSmgWONVllJ2",
        "colab_type": "code",
        "colab": {
          "base_uri": "https://localhost:8080/",
          "height": 470
        },
        "outputId": "f1d25882-b140-421d-f445-2b1605802ea1"
      },
      "source": [
        "print(bsebetasort2020,bsebetasort2015)"
      ],
      "execution_count": 25,
      "outputs": [
        {
          "output_type": "stream",
          "text": [
            "     Stock Name_y      Beta\n",
            "22      COLPAL.BO  0.481817\n",
            "90         TCS.BO  0.499613\n",
            "59       LUPIN.BO  0.505702\n",
            "29     DRREDDY.BO  0.521318\n",
            "98       WIPRO.BO  0.553065\n",
            "..            ...       ...\n",
            "61      M&MFIN.BO  1.475524\n",
            "42    HINDALCO.BO  1.515286\n",
            "45  IBULHSGFIN.BO  1.516238\n",
            "96        VEDL.BO  1.560192\n",
            "27         DLF.BO  1.643785\n",
            "\n",
            "[100 rows x 2 columns]      Stock Name_y      Beta\n",
            "47        INFY.BO  0.122593\n",
            "62   NESTLEIND.BO  0.150850\n",
            "57      MARICO.BO  0.153692\n",
            "3   APOLLOHOSP.BO  0.160024\n",
            "17    BOSCHLTD.BO  0.163105\n",
            "..            ...       ...\n",
            "39    HINDALCO.BO  0.646503\n",
            "72      RECLTD.BO  0.674282\n",
            "69         PFC.BO  0.685606\n",
            "26         DLF.BO  0.695628\n",
            "42  IBULHSGFIN.BO  1.155492\n",
            "\n",
            "[93 rows x 2 columns]\n"
          ],
          "name": "stdout"
        }
      ]
    },
    {
      "cell_type": "code",
      "metadata": {
        "colab_type": "code",
        "id": "NH-kNOLky2VQ",
        "colab": {
          "base_uri": "https://localhost:8080/",
          "height": 524
        },
        "outputId": "034eadb8-fe7b-42fc-9890-04a1d0e5620a"
      },
      "source": [
        "ax = bsebetasort2015.plot(kind='line', x='Stock Name_y', y='Beta', color='Red', label='2010-2015');\n",
        "bsebetasort2020.plot(kind='line', x='Stock Name_y', y='Beta', color='Black', label='2015-2020', ax=ax);\n",
        "plt.xticks(range(0,len(bsebetasort2020.index)), bsebetasort2020['Stock Name_y'], rotation=90)\n",
        "plt.show()"
      ],
      "execution_count": 26,
      "outputs": [
        {
          "output_type": "display_data",
          "data": {
            "image/png": "[encoded data removed]",
            "text/plain": [
              "<Figure size 1440x504 with 1 Axes>"
            ]
          },
          "metadata": {
            "tags": [],
            "needs_background": "light"
          }
        }
      ]
    },
    {
      "cell_type": "code",
      "metadata": {
        "id": "Bk_3NB1amqhF",
        "colab_type": "code",
        "colab": {}
      },
      "source": [
        "def AverageBeta(df):\n",
        "  avg_beta=df.mean(axis = 0)\n",
        "  return avg_beta"
      ],
      "execution_count": 27,
      "outputs": []
    },
    {
      "cell_type": "code",
      "metadata": {
        "id": "4xFNzEbEbohI",
        "colab_type": "code",
        "colab": {
          "base_uri": "https://localhost:8080/",
          "height": 50
        },
        "outputId": "eedfd9f1-146c-454c-9d4a-2dec25649fff"
      },
      "source": [
        "AverageBeta(bsebetasort)"
      ],
      "execution_count": 28,
      "outputs": [
        {
          "output_type": "execute_result",
          "data": {
            "text/plain": [
              "Beta    0.615728\n",
              "dtype: float64"
            ]
          },
          "metadata": {
            "tags": []
          },
          "execution_count": 28
        }
      ]
    },
    {
      "cell_type": "code",
      "metadata": {
        "id": "cPMYk2yTg3KP",
        "colab_type": "code",
        "colab": {}
      },
      "source": [
        "def AvgRet(common):\n",
        "  avg_return=common.groupby(['Stock Name_y'])['pct_change_stock'].mean()\n",
        "  avg_return=avg_return.sort_values(ascending=True)\n",
        "  return avg_return"
      ],
      "execution_count": 29,
      "outputs": []
    },
    {
      "cell_type": "code",
      "metadata": {
        "id": "Kt7_dNZab9kr",
        "colab_type": "code",
        "colab": {
          "base_uri": "https://localhost:8080/",
          "height": 235
        },
        "outputId": "d33fa20a-c5f5-4706-d88c-df6607f7465b"
      },
      "source": [
        "averageret=AvgRet(commonbse)\n",
        "print(averageret)\n",
        "#averageret.to_excel('avgeret.xlsx')"
      ],
      "execution_count": 30,
      "outputs": [
        {
          "output_type": "stream",
          "text": [
            "Stock Name_y\n",
            "RBLBANK.BO      -1.091485e-04\n",
            "TATAPOWER.BO    -1.402194e-05\n",
            "NMDC.BO         -9.204504e-06\n",
            "NTPC.BO         -6.028465e-07\n",
            "COALINDIA.BO     2.529607e-06\n",
            "                     ...     \n",
            "BRITANNIA.BO     1.420127e-03\n",
            "BERGEPAINT.BO    1.483934e-03\n",
            "EICHERMOT.BO     1.502734e-03\n",
            "DMART.BO         1.666509e-03\n",
            "BAJFINANCE.BO    2.211494e-03\n",
            "Name: pct_change_stock, Length: 100, dtype: float64\n"
          ],
          "name": "stdout"
        }
      ]
    },
    {
      "cell_type": "code",
      "metadata": {
        "id": "YWxn6XX9oQsb",
        "colab_type": "code",
        "colab": {}
      },
      "source": [
        "#print(averageret)\n",
        "avgsort=averageret.sort_index()\n",
        "#print(avgsort)\n",
        "avgret=avgsort.to_list()\n",
        "#print(avgret)\n",
        "bsebetasort.sort_values(by=['Stock Name_y'], inplace=True)\n",
        "bsebetasort['Average Return']=avgret"
      ],
      "execution_count": 31,
      "outputs": []
    },
    {
      "cell_type": "code",
      "metadata": {
        "id": "yId_x-B_UkAM",
        "colab_type": "code",
        "colab": {}
      },
      "source": [
        "def GroupAverage(bsebetasort):\n",
        "  avgr=bsebetasort.iloc[0:10:].mean().to_frame().T\n",
        "  for i in range(10,100,10): \n",
        "    avgr=avgr.append(bsebetasort.iloc[i:i+10:].mean().to_frame().T)\n",
        "  return avgr"
      ],
      "execution_count": 32,
      "outputs": []
    },
    {
      "cell_type": "code",
      "metadata": {
        "id": "rAl5i4F1paX2",
        "colab_type": "code",
        "colab": {
          "base_uri": "https://localhost:8080/",
          "height": 202
        },
        "outputId": "5c366afe-2af9-432b-f398-bfd0180aebb4"
      },
      "source": [
        "beta_vs_avg=GroupAverage(bsebetasort)\n",
        "print(beta_vs_avg)"
      ],
      "execution_count": 33,
      "outputs": [
        {
          "output_type": "stream",
          "text": [
            "       Beta  Average Return\n",
            "0  0.618030        0.000794\n",
            "0  0.545784        0.001013\n",
            "0  0.505224        0.000700\n",
            "0  0.574960        0.000899\n",
            "0  0.805544        0.000828\n",
            "0  0.624046        0.000670\n",
            "0  0.533653        0.000747\n",
            "0  0.646087        0.000644\n",
            "0  0.713525        0.000426\n",
            "0  0.590427        0.000751\n"
          ],
          "name": "stdout"
        }
      ]
    },
    {
      "cell_type": "code",
      "metadata": {
        "id": "UJj6QqpI0-f_",
        "colab_type": "code",
        "colab": {
          "base_uri": "https://localhost:8080/",
          "height": 458
        },
        "outputId": "7bad114e-e1b8-4f98-aa0e-b5a9c4b447b8"
      },
      "source": [
        "beta_vs_avg.plot.scatter(x='Beta', y='Average Return', title= \"Scatter plot between Beta and Average Return\", marker='x', s=200);\n",
        "plt.show();"
      ],
      "execution_count": 34,
      "outputs": [
        {
          "output_type": "display_data",
          "data": {
            "image/png": "[encoded data removed]",
            "text/plain": [
              "<Figure size 1440x504 with 1 Axes>"
            ]
          },
          "metadata": {
            "tags": [],
            "needs_background": "light"
          }
        }
      ]
    }
  ]
}